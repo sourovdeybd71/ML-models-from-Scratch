{
 "cells": [
  {
   "cell_type": "code",
   "execution_count": 1,
   "id": "8a555a64",
   "metadata": {},
   "outputs": [],
   "source": [
    "import pandas as pd\n",
    "import matplotlib.pyplot as plt\n",
    "\n"
   ]
  },
  {
   "cell_type": "code",
   "execution_count": 9,
   "id": "0e92123d",
   "metadata": {},
   "outputs": [
    {
     "data": {
      "text/html": [
       "<div>\n",
       "<style scoped>\n",
       "    .dataframe tbody tr th:only-of-type {\n",
       "        vertical-align: middle;\n",
       "    }\n",
       "\n",
       "    .dataframe tbody tr th {\n",
       "        vertical-align: top;\n",
       "    }\n",
       "\n",
       "    .dataframe thead th {\n",
       "        text-align: right;\n",
       "    }\n",
       "</style>\n",
       "<table border=\"1\" class=\"dataframe\">\n",
       "  <thead>\n",
       "    <tr style=\"text-align: right;\">\n",
       "      <th></th>\n",
       "      <th>studytime</th>\n",
       "      <th>score</th>\n",
       "    </tr>\n",
       "  </thead>\n",
       "  <tbody>\n",
       "    <tr>\n",
       "      <th>0</th>\n",
       "      <td>34.300</td>\n",
       "      <td>35.500</td>\n",
       "    </tr>\n",
       "    <tr>\n",
       "      <th>1</th>\n",
       "      <td>55.224</td>\n",
       "      <td>71.120</td>\n",
       "    </tr>\n",
       "    <tr>\n",
       "      <th>2</th>\n",
       "      <td>63.640</td>\n",
       "      <td>65.334</td>\n",
       "    </tr>\n",
       "    <tr>\n",
       "      <th>3</th>\n",
       "      <td>49.340</td>\n",
       "      <td>73.000</td>\n",
       "    </tr>\n",
       "    <tr>\n",
       "      <th>4</th>\n",
       "      <td>50.540</td>\n",
       "      <td>77.342</td>\n",
       "    </tr>\n",
       "  </tbody>\n",
       "</table>\n",
       "</div>"
      ],
      "text/plain": [
       "   studytime   score\n",
       "0     34.300  35.500\n",
       "1     55.224  71.120\n",
       "2     63.640  65.334\n",
       "3     49.340  73.000\n",
       "4     50.540  77.342"
      ]
     },
     "execution_count": 9,
     "metadata": {},
     "output_type": "execute_result"
    }
   ],
   "source": [
    "data=pd.read_csv(\"studytime.csv\")\n",
    "data"
   ]
  },
  {
   "cell_type": "code",
   "execution_count": null,
   "id": "632e2a94",
   "metadata": {},
   "outputs": [],
   "source": []
  },
  {
   "cell_type": "code",
   "execution_count": 21,
   "id": "48a95f7f",
   "metadata": {},
   "outputs": [
    {
     "name": "stdout",
     "output_type": "stream",
     "text": [
      "1770.0631087999998\n"
     ]
    }
   ],
   "source": [
    "def loss_function(m, b, points):\n",
    "    total_error=0\n",
    "    for i in range(len(points)):\n",
    "        x=points.iloc[i].studytime\n",
    "        y=points.iloc[i].score\n",
    "        total_error+= (y - (m*x+b))**2\n",
    "    return total_error/float(len(points))\n",
    "\n",
    "totalError = loss_function(2, 3, data)\n",
    "print(totalError)"
   ]
  },
  {
   "cell_type": "code",
   "execution_count": 17,
   "id": "1d2097a7",
   "metadata": {},
   "outputs": [],
   "source": [
    "def gradient_descent(m_now, b_now, points, L):\n",
    "    m_gradient=0\n",
    "    b_gradient=0\n",
    "    \n",
    "    n=len(points)\n",
    "    for i in range(n):\n",
    "        x=points.iloc[i].studytime\n",
    "        y=points.iloc[i].score\n",
    "        m_gradient+=-(2/n)*x*(y-(m_now*x + b_now))\n",
    "        b_gradient+=-(2/n)*(y-(m_now*x + b_now))\n",
    "    \n",
    "    m=m_now- m_gradient*L\n",
    "    b=b_now- b_gradient*L\n",
    "    return m, b"
   ]
  },
  {
   "cell_type": "code",
   "execution_count": 26,
   "id": "87d2a9c6",
   "metadata": {},
   "outputs": [
    {
     "name": "stdout",
     "output_type": "stream",
     "text": [
      "1.261636461846733 0.024687886373860247\n"
     ]
    }
   ],
   "source": [
    "m=0\n",
    "b=0\n",
    "L=0.00001\n",
    "epochs=100\n",
    "\n",
    "for i in range(epochs):\n",
    "    m, b=gradient_descent(m, b, data, L)\n",
    "\n",
    "print(m, b)"
   ]
  },
  {
   "cell_type": "code",
   "execution_count": 27,
   "id": "1e7f3b80",
   "metadata": {},
   "outputs": [
    {
     "data": {
      "image/png": "[encoded data removed]",
      "text/plain": [
       "<Figure size 432x288 with 1 Axes>"
      ]
     },
     "metadata": {
      "needs_background": "light"
     },
     "output_type": "display_data"
    }
   ],
   "source": [
    "plt.scatter(data.studytime, data.score, color=\"black\")\n",
    "plt.plot(list(range(20, 80)), [m*x+b for x in range(20, 80)], color=\"red\")\n",
    "plt.show()"
   ]
  },
  {
   "cell_type": "code",
   "execution_count": null,
   "id": "519ee3f0",
   "metadata": {},
   "outputs": [],
   "source": []
  },
  {
   "cell_type": "code",
   "execution_count": null,
   "id": "6177fc88",
   "metadata": {},
   "outputs": [],
   "source": []
  }
 ],
 "metadata": {
  "kernelspec": {
   "display_name": "Python 3 (ipykernel)",
   "language": "python",
   "name": "python3"
  },
  "language_info": {
   "codemirror_mode": {
    "name": "ipython",
    "version": 3
   },
   "file_extension": ".py",
   "mimetype": "text/x-python",
   "name": "python",
   "nbconvert_exporter": "python",
   "pygments_lexer": "ipython3",
   "version": "3.9.7"
  }
 },
 "nbformat": 4,
 "nbformat_minor": 5
}
